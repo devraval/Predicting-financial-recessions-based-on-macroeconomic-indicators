{
 "cells": [
  {
   "cell_type": "markdown",
   "metadata": {
    "papermill": {
     "duration": 0.016023,
     "end_time": "2020-11-21T05:45:31.802946",
     "exception": false,
     "start_time": "2020-11-21T05:45:31.786923",
     "status": "completed"
    },
    "tags": []
   },
   "source": [
    "# Predicting financial market recession based on macroeconomic indicators"
   ]
  },
  {
   "cell_type": "markdown",
   "metadata": {
    "papermill": {
     "duration": 0.019113,
     "end_time": "2020-11-21T05:45:31.836889",
     "exception": false,
     "start_time": "2020-11-21T05:45:31.817776",
     "status": "completed"
    },
    "tags": []
   },
   "source": [
    "## 1. Data Collection and cleaning"
   ]
  },
  {
   "cell_type": "markdown",
   "metadata": {
    "papermill": {
     "duration": 0.019873,
     "end_time": "2020-11-21T05:45:31.877262",
     "exception": false,
     "start_time": "2020-11-21T05:45:31.857389",
     "status": "completed"
    },
    "tags": []
   },
   "source": [
    "For the macroeconomic indicator data, the most used website is world bank followed by FRED(Federal Reserve Bank Of St.Louis).\n",
    "The website has categories to choose indicators from as decribed above. The free API needs symbol of each indicator to collect data, the list of which is compiled here manually.\n",
    "\n",
    "Stock market data is collected from yahoo finance and quandl.com as FRED api function in this notebook collects default option of daily stock market data.\n",
    "\n",
    "Time frame is selected from 1996 to Aug 2020 according to available data."
   ]
  },
  {
   "cell_type": "markdown",
   "metadata": {
    "papermill": {
     "duration": 0.019749,
     "end_time": "2020-11-21T05:45:31.917172",
     "exception": false,
     "start_time": "2020-11-21T05:45:31.897423",
     "status": "completed"
    },
    "tags": []
   },
   "source": [
    "### Macroeconomic indicators used:\n",
    "#### 1. Output and Income:\n",
    "\n",
    " a. RPI Real Personal Income\n",
    " \n",
    " b. INDPRO IP Index\n",
    " \n",
    "#### 2. Labor Market\n",
    " \n",
    " a. CE16OV Civilian Employment\n",
    " \n",
    " b. UNRATE Civilian Unemployment Rate\n",
    " \n",
    " c. PAYEMS All Employees: Total nonfarm\n",
    " \n",
    " d. USGOOD All Employees: Goods-Producing Industries\n",
    " \n",
    " e. USTPU All Employees: Trade, Transportation & Utilities\n",
    " \n",
    " \n",
    "####  3. Real Estate\n",
    "\n",
    " a. HOUST Housing Starts: Total New Privately Owned\n",
    " \n",
    " b. PERMIT New Private Housing Permits (SAAR)\n",
    " \n",
    "#### 4. Consumption and Expenditures\n",
    "\n",
    " a. DPCERA3M086SBEA Real personal consumption expenditures\n",
    " \n",
    " b. CMRMTSPL Real Manu. and Trade Industries Sales\n",
    " \n",
    " c. RETAIL Retail and Food Services Sales\n",
    " \n",
    " d. AMTMNO Manufacturers' New Orders: Total Manufacturing\n",
    " \n",
    " e. AMTMTI Manufacturers' Total Inventories: Total Manufacturing \n",
    " \n",
    " f. ACOGNO New Orders for Consumer Goods\n",
    " \n",
    " g. AMDMUO Unfilled Orders for Durable Goods\n",
    " \n",
    " h. BUSINV Total Business Inventories \n",
    " \n",
    " i. ISRATIO Total Business: Inventories to Sales Ratio\n",
    " \n",
    "#### 5. Money and Credit\n",
    "\n",
    " a. M1SL M1 Money Stock\n",
    " \n",
    " b. M2SL M2 Money Stock\n",
    " \n",
    " c. TOTRESNS Total Reserves of Depository Institutions\n",
    " \n",
    " d. BUSLOANS Commercial and Industrial Loans\n",
    " \n",
    " e. REALLN Real Estate Loans at All Commercial Banks\n",
    " \n",
    " f. DTCTHFNM Total Consumer Loans and Leases Outstanding\n",
    " \n",
    "#### 6. Interest and Exchange Rates\n",
    "\n",
    " a. FEDFUNDS Effective Federal Funds Rate\n",
    " \n",
    " b. TB3MS 3-Month Treasury Bill\n",
    " \n",
    " c. TB6MS 6-Month Treasury Bill\n",
    " \n",
    " d. GS1 1-Year Treasury Rate\n",
    " \n",
    " e. GS5 5-Year Treasury Rate\n",
    " \n",
    " f. GS10 10-Year Treasury Rate\n",
    " \n",
    " g. AAA Moody’s Seasoned Aaa Corporate Bond Yield\n",
    " \n",
    " h. TB3SMFFM 3-Month Treasury C Minus FEDFUNDS\n",
    " \n",
    " i. T1YFFM 1-Year Treasury C Minus FEDFUNDS \n",
    " \n",
    " j. AAAFFM Moody’s Aaa Corporate Bond Minus FEDFUNDS\n",
    " \n",
    " k. TWEXAFEGSMTHx Trade Weighted U.S. Dollar Index \n",
    " \n",
    " l. EXSZUSx Switzerland / U.S. Foreign Exchange Rate \n",
    " \n",
    " l. EXCAUSx Canada / U.S. Foreign Exchange Rate\n",
    " \n",
    " m. EXUSUKx U.S. / U.K. Foreign Exchange Rate\n",
    " \n",
    "#### 7. Prices\n",
    "\n",
    " a. WPSFD49207 PPI: Finished Goods\n",
    " \n",
    " b. WPSID61 PPI: Intermediate Materials\n",
    " \n",
    " c. OILPRICEx Crude Oil, spliced WTI and Cushing\n",
    " \n",
    " d. NAPMPRI ISM Manufacturing: Prices Index\n",
    " \n",
    " e. CPIAUCSL CPI : All Items\n",
    " \n",
    "#### 8. Stock Market\n",
    "\n",
    " a. S&P 500 S&P’s Common Stock Price Index: Composite\n",
    " \n",
    " b. S&P Dividend yield \n",
    " \n",
    " c. NASDAQ Composite Index \n",
    " \n",
    " d. S&P P/E ratio\n",
    " \n",
    " e. Gold ETF"
   ]
  },
  {
   "cell_type": "code",
   "execution_count": 1,
   "metadata": {
    "execution": {
     "iopub.execute_input": "2020-11-21T05:45:31.965455Z",
     "iopub.status.busy": "2020-11-21T05:45:31.964690Z",
     "iopub.status.idle": "2020-11-21T05:45:42.268609Z",
     "shell.execute_reply": "2020-11-21T05:45:42.267876Z"
    },
    "papermill": {
     "duration": 10.331481,
     "end_time": "2020-11-21T05:45:42.268741",
     "exception": false,
     "start_time": "2020-11-21T05:45:31.937260",
     "status": "completed"
    },
    "tags": []
   },
   "outputs": [
    {
     "name": "stdout",
     "output_type": "stream",
     "text": [
      "Collecting fredapi\r\n",
      "  Downloading fredapi-0.4.2-py3-none-any.whl (11 kB)\r\n",
      "Requirement already satisfied: pandas in /opt/conda/lib/python3.7/site-packages (from fredapi) (1.1.4)\r\n",
      "Requirement already satisfied: pytz>=2017.2 in /opt/conda/lib/python3.7/site-packages (from pandas->fredapi) (2019.3)\r\n",
      "Requirement already satisfied: python-dateutil>=2.7.3 in /opt/conda/lib/python3.7/site-packages (from pandas->fredapi) (2.8.1)\r\n",
      "Requirement already satisfied: numpy>=1.15.4 in /opt/conda/lib/python3.7/site-packages (from pandas->fredapi) (1.18.5)\r\n",
      "Requirement already satisfied: six>=1.5 in /opt/conda/lib/python3.7/site-packages (from python-dateutil>=2.7.3->pandas->fredapi) (1.14.0)\r\n",
      "Installing collected packages: fredapi\r\n",
      "Successfully installed fredapi-0.4.2\r\n"
     ]
    }
   ],
   "source": [
    "!pip install fredapi"
   ]
  },
  {
   "cell_type": "code",
   "execution_count": 2,
   "metadata": {
    "_kg_hide-output": true,
    "execution": {
     "iopub.execute_input": "2020-11-21T05:45:42.321063Z",
     "iopub.status.busy": "2020-11-21T05:45:42.320176Z",
     "iopub.status.idle": "2020-11-21T05:45:42.328407Z",
     "shell.execute_reply": "2020-11-21T05:45:42.327480Z"
    },
    "papermill": {
     "duration": 0.036632,
     "end_time": "2020-11-21T05:45:42.328545",
     "exception": false,
     "start_time": "2020-11-21T05:45:42.291913",
     "status": "completed"
    },
    "tags": []
   },
   "outputs": [],
   "source": [
    "import pandas as pd\n",
    "from fredapi import Fred\n",
    "fred = Fred(api_key='7ad697af1dec5b19a68ac9ed098f0350')\n"
   ]
  },
  {
   "cell_type": "code",
   "execution_count": 3,
   "metadata": {
    "execution": {
     "iopub.execute_input": "2020-11-21T05:45:42.404410Z",
     "iopub.status.busy": "2020-11-21T05:45:42.403715Z",
     "iopub.status.idle": "2020-11-21T05:45:42.408261Z",
     "shell.execute_reply": "2020-11-21T05:45:42.407623Z"
    },
    "papermill": {
     "duration": 0.045818,
     "end_time": "2020-11-21T05:45:42.408368",
     "exception": false,
     "start_time": "2020-11-21T05:45:42.362550",
     "status": "completed"
    },
    "tags": []
   },
   "outputs": [],
   "source": [
    "ids=['RPI',\n",
    " 'INDPRO',\n",
    " 'CE16OV', \n",
    " 'UNRATE', \n",
    " 'PAYEMS', \n",
    " 'USGOOD', \n",
    " 'USTPU',\n",
    " 'HOUST', \n",
    " 'PERMIT', \n",
    " 'DPCERA3M086SBEA', \n",
    " 'CMRMTSPL', \n",
    " 'RETAIL', \n",
    " 'AMTMTI',\n",
    " 'AMTMNO',  \n",
    " 'ACOGNO',\n",
    " 'AMDMUO',\n",
    " 'BUSINV',\n",
    " 'ISRATIO',\n",
    " 'M1SL',\n",
    " 'M2SL',\n",
    " 'TOTRESNS',\n",
    " 'BUSLOANS',\n",
    " 'REALLN',\n",
    " 'DTCTHFNM',\n",
    " 'FEDFUNDS',\n",
    " 'TB3MS',\n",
    " 'TB6MS',\n",
    " 'GS1',\n",
    " 'GS5', \n",
    " 'GS10',\n",
    " 'AAA',\n",
    " 'TB3SMFFM',\n",
    " 'T1YFFM',\n",
    " 'AAAFFM',\n",
    " 'TWEXAFEGSMTH',\n",
    " 'EXSZUS',\n",
    " 'EXCAUS',\n",
    " 'EXUSUK',\n",
    " 'WPSFD49207',\n",
    " 'WPSID61',\n",
    " 'OILPRICE',\n",
    " 'CPIAUCSL']"
   ]
  },
  {
   "cell_type": "code",
   "execution_count": 4,
   "metadata": {
    "execution": {
     "iopub.execute_input": "2020-11-21T05:45:42.474944Z",
     "iopub.status.busy": "2020-11-21T05:45:42.474221Z",
     "iopub.status.idle": "2020-11-21T05:46:14.412308Z",
     "shell.execute_reply": "2020-11-21T05:46:14.412988Z"
    },
    "papermill": {
     "duration": 31.981984,
     "end_time": "2020-11-21T05:46:14.413156",
     "exception": false,
     "start_time": "2020-11-21T05:45:42.431172",
     "status": "completed"
    },
    "tags": []
   },
   "outputs": [
    {
     "ename": "ValueError",
     "evalue": "None",
     "output_type": "error",
     "traceback": [
      "\u001b[0;31m---------------------------------------------------------------------------\u001b[0m",
      "\u001b[0;31mHTTPError\u001b[0m                                 Traceback (most recent call last)",
      "\u001b[0;32m/opt/conda/lib/python3.7/site-packages/fredapi/fred.py\u001b[0m in \u001b[0;36m__fetch_data\u001b[0;34m(self, url)\u001b[0m\n\u001b[1;32m     63\u001b[0m         \u001b[0;32mtry\u001b[0m\u001b[0;34m:\u001b[0m\u001b[0;34m\u001b[0m\u001b[0;34m\u001b[0m\u001b[0m\n\u001b[0;32m---> 64\u001b[0;31m             \u001b[0mresponse\u001b[0m \u001b[0;34m=\u001b[0m \u001b[0murlopen\u001b[0m\u001b[0;34m(\u001b[0m\u001b[0murl\u001b[0m\u001b[0;34m)\u001b[0m\u001b[0;34m\u001b[0m\u001b[0;34m\u001b[0m\u001b[0m\n\u001b[0m\u001b[1;32m     65\u001b[0m             \u001b[0mroot\u001b[0m \u001b[0;34m=\u001b[0m \u001b[0mET\u001b[0m\u001b[0;34m.\u001b[0m\u001b[0mfromstring\u001b[0m\u001b[0;34m(\u001b[0m\u001b[0mresponse\u001b[0m\u001b[0;34m.\u001b[0m\u001b[0mread\u001b[0m\u001b[0;34m(\u001b[0m\u001b[0;34m)\u001b[0m\u001b[0;34m)\u001b[0m\u001b[0;34m\u001b[0m\u001b[0;34m\u001b[0m\u001b[0m\n",
      "\u001b[0;32m/opt/conda/lib/python3.7/urllib/request.py\u001b[0m in \u001b[0;36murlopen\u001b[0;34m(url, data, timeout, cafile, capath, cadefault, context)\u001b[0m\n\u001b[1;32m    221\u001b[0m         \u001b[0mopener\u001b[0m \u001b[0;34m=\u001b[0m \u001b[0m_opener\u001b[0m\u001b[0;34m\u001b[0m\u001b[0;34m\u001b[0m\u001b[0m\n\u001b[0;32m--> 222\u001b[0;31m     \u001b[0;32mreturn\u001b[0m \u001b[0mopener\u001b[0m\u001b[0;34m.\u001b[0m\u001b[0mopen\u001b[0m\u001b[0;34m(\u001b[0m\u001b[0murl\u001b[0m\u001b[0;34m,\u001b[0m \u001b[0mdata\u001b[0m\u001b[0;34m,\u001b[0m \u001b[0mtimeout\u001b[0m\u001b[0;34m)\u001b[0m\u001b[0;34m\u001b[0m\u001b[0;34m\u001b[0m\u001b[0m\n\u001b[0m\u001b[1;32m    223\u001b[0m \u001b[0;34m\u001b[0m\u001b[0m\n",
      "\u001b[0;32m/opt/conda/lib/python3.7/urllib/request.py\u001b[0m in \u001b[0;36mopen\u001b[0;34m(self, fullurl, data, timeout)\u001b[0m\n\u001b[1;32m    530\u001b[0m             \u001b[0mmeth\u001b[0m \u001b[0;34m=\u001b[0m \u001b[0mgetattr\u001b[0m\u001b[0;34m(\u001b[0m\u001b[0mprocessor\u001b[0m\u001b[0;34m,\u001b[0m \u001b[0mmeth_name\u001b[0m\u001b[0;34m)\u001b[0m\u001b[0;34m\u001b[0m\u001b[0;34m\u001b[0m\u001b[0m\n\u001b[0;32m--> 531\u001b[0;31m             \u001b[0mresponse\u001b[0m \u001b[0;34m=\u001b[0m \u001b[0mmeth\u001b[0m\u001b[0;34m(\u001b[0m\u001b[0mreq\u001b[0m\u001b[0;34m,\u001b[0m \u001b[0mresponse\u001b[0m\u001b[0;34m)\u001b[0m\u001b[0;34m\u001b[0m\u001b[0;34m\u001b[0m\u001b[0m\n\u001b[0m\u001b[1;32m    532\u001b[0m \u001b[0;34m\u001b[0m\u001b[0m\n",
      "\u001b[0;32m/opt/conda/lib/python3.7/urllib/request.py\u001b[0m in \u001b[0;36mhttp_response\u001b[0;34m(self, request, response)\u001b[0m\n\u001b[1;32m    640\u001b[0m             response = self.parent.error(\n\u001b[0;32m--> 641\u001b[0;31m                 'http', request, response, code, msg, hdrs)\n\u001b[0m\u001b[1;32m    642\u001b[0m \u001b[0;34m\u001b[0m\u001b[0m\n",
      "\u001b[0;32m/opt/conda/lib/python3.7/urllib/request.py\u001b[0m in \u001b[0;36merror\u001b[0;34m(self, proto, *args)\u001b[0m\n\u001b[1;32m    568\u001b[0m             \u001b[0margs\u001b[0m \u001b[0;34m=\u001b[0m \u001b[0;34m(\u001b[0m\u001b[0mdict\u001b[0m\u001b[0;34m,\u001b[0m \u001b[0;34m'default'\u001b[0m\u001b[0;34m,\u001b[0m \u001b[0;34m'http_error_default'\u001b[0m\u001b[0;34m)\u001b[0m \u001b[0;34m+\u001b[0m \u001b[0morig_args\u001b[0m\u001b[0;34m\u001b[0m\u001b[0;34m\u001b[0m\u001b[0m\n\u001b[0;32m--> 569\u001b[0;31m             \u001b[0;32mreturn\u001b[0m \u001b[0mself\u001b[0m\u001b[0;34m.\u001b[0m\u001b[0m_call_chain\u001b[0m\u001b[0;34m(\u001b[0m\u001b[0;34m*\u001b[0m\u001b[0margs\u001b[0m\u001b[0;34m)\u001b[0m\u001b[0;34m\u001b[0m\u001b[0;34m\u001b[0m\u001b[0m\n\u001b[0m\u001b[1;32m    570\u001b[0m \u001b[0;34m\u001b[0m\u001b[0m\n",
      "\u001b[0;32m/opt/conda/lib/python3.7/urllib/request.py\u001b[0m in \u001b[0;36m_call_chain\u001b[0;34m(self, chain, kind, meth_name, *args)\u001b[0m\n\u001b[1;32m    502\u001b[0m             \u001b[0mfunc\u001b[0m \u001b[0;34m=\u001b[0m \u001b[0mgetattr\u001b[0m\u001b[0;34m(\u001b[0m\u001b[0mhandler\u001b[0m\u001b[0;34m,\u001b[0m \u001b[0mmeth_name\u001b[0m\u001b[0;34m)\u001b[0m\u001b[0;34m\u001b[0m\u001b[0;34m\u001b[0m\u001b[0m\n\u001b[0;32m--> 503\u001b[0;31m             \u001b[0mresult\u001b[0m \u001b[0;34m=\u001b[0m \u001b[0mfunc\u001b[0m\u001b[0;34m(\u001b[0m\u001b[0;34m*\u001b[0m\u001b[0margs\u001b[0m\u001b[0;34m)\u001b[0m\u001b[0;34m\u001b[0m\u001b[0;34m\u001b[0m\u001b[0m\n\u001b[0m\u001b[1;32m    504\u001b[0m             \u001b[0;32mif\u001b[0m \u001b[0mresult\u001b[0m \u001b[0;32mis\u001b[0m \u001b[0;32mnot\u001b[0m \u001b[0;32mNone\u001b[0m\u001b[0;34m:\u001b[0m\u001b[0;34m\u001b[0m\u001b[0;34m\u001b[0m\u001b[0m\n",
      "\u001b[0;32m/opt/conda/lib/python3.7/urllib/request.py\u001b[0m in \u001b[0;36mhttp_error_default\u001b[0;34m(self, req, fp, code, msg, hdrs)\u001b[0m\n\u001b[1;32m    648\u001b[0m     \u001b[0;32mdef\u001b[0m \u001b[0mhttp_error_default\u001b[0m\u001b[0;34m(\u001b[0m\u001b[0mself\u001b[0m\u001b[0;34m,\u001b[0m \u001b[0mreq\u001b[0m\u001b[0;34m,\u001b[0m \u001b[0mfp\u001b[0m\u001b[0;34m,\u001b[0m \u001b[0mcode\u001b[0m\u001b[0;34m,\u001b[0m \u001b[0mmsg\u001b[0m\u001b[0;34m,\u001b[0m \u001b[0mhdrs\u001b[0m\u001b[0;34m)\u001b[0m\u001b[0;34m:\u001b[0m\u001b[0;34m\u001b[0m\u001b[0;34m\u001b[0m\u001b[0m\n\u001b[0;32m--> 649\u001b[0;31m         \u001b[0;32mraise\u001b[0m \u001b[0mHTTPError\u001b[0m\u001b[0;34m(\u001b[0m\u001b[0mreq\u001b[0m\u001b[0;34m.\u001b[0m\u001b[0mfull_url\u001b[0m\u001b[0;34m,\u001b[0m \u001b[0mcode\u001b[0m\u001b[0;34m,\u001b[0m \u001b[0mmsg\u001b[0m\u001b[0;34m,\u001b[0m \u001b[0mhdrs\u001b[0m\u001b[0;34m,\u001b[0m \u001b[0mfp\u001b[0m\u001b[0;34m)\u001b[0m\u001b[0;34m\u001b[0m\u001b[0;34m\u001b[0m\u001b[0m\n\u001b[0m\u001b[1;32m    650\u001b[0m \u001b[0;34m\u001b[0m\u001b[0m\n",
      "\u001b[0;31mHTTPError\u001b[0m: HTTP Error 504: Gateway Time-out",
      "\nDuring handling of the above exception, another exception occurred:\n",
      "\u001b[0;31mValueError\u001b[0m                                Traceback (most recent call last)",
      "\u001b[0;32m<ipython-input-4-7e87ed53c0ed>\u001b[0m in \u001b[0;36m<module>\u001b[0;34m\u001b[0m\n\u001b[1;32m      2\u001b[0m \u001b[0;32mfor\u001b[0m \u001b[0mseries_name\u001b[0m \u001b[0;32min\u001b[0m \u001b[0mids\u001b[0m\u001b[0;34m:\u001b[0m\u001b[0;34m\u001b[0m\u001b[0;34m\u001b[0m\u001b[0m\n\u001b[1;32m      3\u001b[0m    \u001b[0;31m# print(series_name)\u001b[0m\u001b[0;34m\u001b[0m\u001b[0;34m\u001b[0m\u001b[0;34m\u001b[0m\u001b[0m\n\u001b[0;32m----> 4\u001b[0;31m     \u001b[0mseries_data\u001b[0m \u001b[0;34m=\u001b[0m \u001b[0mfred\u001b[0m\u001b[0;34m.\u001b[0m\u001b[0mget_series\u001b[0m\u001b[0;34m(\u001b[0m\u001b[0mseries_name\u001b[0m\u001b[0;34m)\u001b[0m\u001b[0;34m\u001b[0m\u001b[0;34m\u001b[0m\u001b[0m\n\u001b[0m\u001b[1;32m      5\u001b[0m     \u001b[0mdf\u001b[0m\u001b[0;34m[\u001b[0m\u001b[0mseries_name\u001b[0m\u001b[0;34m]\u001b[0m\u001b[0;34m=\u001b[0m\u001b[0mseries_data\u001b[0m\u001b[0;34m\u001b[0m\u001b[0;34m\u001b[0m\u001b[0m\n",
      "\u001b[0;32m/opt/conda/lib/python3.7/site-packages/fredapi/fred.py\u001b[0m in \u001b[0;36mget_series\u001b[0;34m(self, series_id, observation_start, observation_end, **kwargs)\u001b[0m\n\u001b[1;32m    129\u001b[0m         \u001b[0;32mif\u001b[0m \u001b[0mkwargs\u001b[0m\u001b[0;34m.\u001b[0m\u001b[0mkeys\u001b[0m\u001b[0;34m(\u001b[0m\u001b[0;34m)\u001b[0m\u001b[0;34m:\u001b[0m\u001b[0;34m\u001b[0m\u001b[0;34m\u001b[0m\u001b[0m\n\u001b[1;32m    130\u001b[0m             \u001b[0murl\u001b[0m \u001b[0;34m+=\u001b[0m \u001b[0;34m'&'\u001b[0m \u001b[0;34m+\u001b[0m \u001b[0murlencode\u001b[0m\u001b[0;34m(\u001b[0m\u001b[0mkwargs\u001b[0m\u001b[0;34m)\u001b[0m\u001b[0;34m\u001b[0m\u001b[0;34m\u001b[0m\u001b[0m\n\u001b[0;32m--> 131\u001b[0;31m         \u001b[0mroot\u001b[0m \u001b[0;34m=\u001b[0m \u001b[0mself\u001b[0m\u001b[0;34m.\u001b[0m\u001b[0m__fetch_data\u001b[0m\u001b[0;34m(\u001b[0m\u001b[0murl\u001b[0m\u001b[0;34m)\u001b[0m\u001b[0;34m\u001b[0m\u001b[0;34m\u001b[0m\u001b[0m\n\u001b[0m\u001b[1;32m    132\u001b[0m         \u001b[0;32mif\u001b[0m \u001b[0mroot\u001b[0m \u001b[0;32mis\u001b[0m \u001b[0;32mNone\u001b[0m\u001b[0;34m:\u001b[0m\u001b[0;34m\u001b[0m\u001b[0;34m\u001b[0m\u001b[0m\n\u001b[1;32m    133\u001b[0m             \u001b[0;32mraise\u001b[0m \u001b[0mValueError\u001b[0m\u001b[0;34m(\u001b[0m\u001b[0;34m'No data exists for series id: '\u001b[0m \u001b[0;34m+\u001b[0m \u001b[0mseries_id\u001b[0m\u001b[0;34m)\u001b[0m\u001b[0;34m\u001b[0m\u001b[0;34m\u001b[0m\u001b[0m\n",
      "\u001b[0;32m/opt/conda/lib/python3.7/site-packages/fredapi/fred.py\u001b[0m in \u001b[0;36m__fetch_data\u001b[0;34m(self, url)\u001b[0m\n\u001b[1;32m     66\u001b[0m         \u001b[0;32mexcept\u001b[0m \u001b[0mHTTPError\u001b[0m \u001b[0;32mas\u001b[0m \u001b[0mexc\u001b[0m\u001b[0;34m:\u001b[0m\u001b[0;34m\u001b[0m\u001b[0;34m\u001b[0m\u001b[0m\n\u001b[1;32m     67\u001b[0m             \u001b[0mroot\u001b[0m \u001b[0;34m=\u001b[0m \u001b[0mET\u001b[0m\u001b[0;34m.\u001b[0m\u001b[0mfromstring\u001b[0m\u001b[0;34m(\u001b[0m\u001b[0mexc\u001b[0m\u001b[0;34m.\u001b[0m\u001b[0mread\u001b[0m\u001b[0;34m(\u001b[0m\u001b[0;34m)\u001b[0m\u001b[0;34m)\u001b[0m\u001b[0;34m\u001b[0m\u001b[0;34m\u001b[0m\u001b[0m\n\u001b[0;32m---> 68\u001b[0;31m             \u001b[0;32mraise\u001b[0m \u001b[0mValueError\u001b[0m\u001b[0;34m(\u001b[0m\u001b[0mroot\u001b[0m\u001b[0;34m.\u001b[0m\u001b[0mget\u001b[0m\u001b[0;34m(\u001b[0m\u001b[0;34m'message'\u001b[0m\u001b[0;34m)\u001b[0m\u001b[0;34m)\u001b[0m\u001b[0;34m\u001b[0m\u001b[0;34m\u001b[0m\u001b[0m\n\u001b[0m\u001b[1;32m     69\u001b[0m         \u001b[0;32mreturn\u001b[0m \u001b[0mroot\u001b[0m\u001b[0;34m\u001b[0m\u001b[0;34m\u001b[0m\u001b[0m\n\u001b[1;32m     70\u001b[0m \u001b[0;34m\u001b[0m\u001b[0m\n",
      "\u001b[0;31mValueError\u001b[0m: None"
     ]
    }
   ],
   "source": [
    "df=pd.DataFrame()\n",
    "for series_name in ids:\n",
    "   # print(series_name)\n",
    "    series_data = fred.get_series(series_name)\n",
    "    df[series_name]=series_data"
   ]
  },
  {
   "cell_type": "code",
   "execution_count": 5,
   "metadata": {
    "execution": {
     "iopub.execute_input": "2020-11-21T05:46:14.470550Z",
     "iopub.status.busy": "2020-11-21T05:46:14.469843Z",
     "iopub.status.idle": "2020-11-21T05:46:14.518367Z",
     "shell.execute_reply": "2020-11-21T05:46:14.517717Z"
    },
    "papermill": {
     "duration": 0.081982,
     "end_time": "2020-11-21T05:46:14.518484",
     "exception": false,
     "start_time": "2020-11-21T05:46:14.436502",
     "status": "completed"
    },
    "tags": []
   },
   "outputs": [
    {
     "data": {
      "text/html": [
       "<div>\n",
       "<style scoped>\n",
       "    .dataframe tbody tr th:only-of-type {\n",
       "        vertical-align: middle;\n",
       "    }\n",
       "\n",
       "    .dataframe tbody tr th {\n",
       "        vertical-align: top;\n",
       "    }\n",
       "\n",
       "    .dataframe thead th {\n",
       "        text-align: right;\n",
       "    }\n",
       "</style>\n",
       "<table border=\"1\" class=\"dataframe\">\n",
       "  <thead>\n",
       "    <tr style=\"text-align: right;\">\n",
       "      <th></th>\n",
       "      <th>RPI</th>\n",
       "      <th>INDPRO</th>\n",
       "      <th>CE16OV</th>\n",
       "      <th>UNRATE</th>\n",
       "      <th>PAYEMS</th>\n",
       "      <th>USGOOD</th>\n",
       "      <th>USTPU</th>\n",
       "      <th>HOUST</th>\n",
       "      <th>PERMIT</th>\n",
       "      <th>DPCERA3M086SBEA</th>\n",
       "      <th>...</th>\n",
       "      <th>RETAIL</th>\n",
       "      <th>AMTMTI</th>\n",
       "      <th>AMTMNO</th>\n",
       "      <th>ACOGNO</th>\n",
       "      <th>AMDMUO</th>\n",
       "      <th>BUSINV</th>\n",
       "      <th>ISRATIO</th>\n",
       "      <th>M1SL</th>\n",
       "      <th>M2SL</th>\n",
       "      <th>TOTRESNS</th>\n",
       "    </tr>\n",
       "  </thead>\n",
       "  <tbody>\n",
       "    <tr>\n",
       "      <th>1959-01-01</th>\n",
       "      <td>2437.296</td>\n",
       "      <td>22.6250</td>\n",
       "      <td>63868.0</td>\n",
       "      <td>6.0</td>\n",
       "      <td>52478.0</td>\n",
       "      <td>18796.0</td>\n",
       "      <td>10774.0</td>\n",
       "      <td>1657.0</td>\n",
       "      <td>NaN</td>\n",
       "      <td>17.302</td>\n",
       "      <td>...</td>\n",
       "      <td>17583.0</td>\n",
       "      <td>NaN</td>\n",
       "      <td>NaN</td>\n",
       "      <td>NaN</td>\n",
       "      <td>NaN</td>\n",
       "      <td>NaN</td>\n",
       "      <td>NaN</td>\n",
       "      <td>138.9</td>\n",
       "      <td>286.6</td>\n",
       "      <td>18.9</td>\n",
       "    </tr>\n",
       "    <tr>\n",
       "      <th>1959-02-01</th>\n",
       "      <td>2446.902</td>\n",
       "      <td>23.0681</td>\n",
       "      <td>63684.0</td>\n",
       "      <td>5.9</td>\n",
       "      <td>52688.0</td>\n",
       "      <td>18890.0</td>\n",
       "      <td>10816.0</td>\n",
       "      <td>1667.0</td>\n",
       "      <td>NaN</td>\n",
       "      <td>17.482</td>\n",
       "      <td>...</td>\n",
       "      <td>17712.0</td>\n",
       "      <td>NaN</td>\n",
       "      <td>NaN</td>\n",
       "      <td>NaN</td>\n",
       "      <td>NaN</td>\n",
       "      <td>NaN</td>\n",
       "      <td>NaN</td>\n",
       "      <td>139.4</td>\n",
       "      <td>287.7</td>\n",
       "      <td>18.6</td>\n",
       "    </tr>\n",
       "    <tr>\n",
       "      <th>1959-03-01</th>\n",
       "      <td>2462.689</td>\n",
       "      <td>23.4004</td>\n",
       "      <td>64267.0</td>\n",
       "      <td>5.6</td>\n",
       "      <td>53014.0</td>\n",
       "      <td>19069.0</td>\n",
       "      <td>10873.0</td>\n",
       "      <td>1620.0</td>\n",
       "      <td>NaN</td>\n",
       "      <td>17.647</td>\n",
       "      <td>...</td>\n",
       "      <td>17860.0</td>\n",
       "      <td>NaN</td>\n",
       "      <td>NaN</td>\n",
       "      <td>NaN</td>\n",
       "      <td>NaN</td>\n",
       "      <td>NaN</td>\n",
       "      <td>NaN</td>\n",
       "      <td>139.7</td>\n",
       "      <td>289.2</td>\n",
       "      <td>18.4</td>\n",
       "    </tr>\n",
       "    <tr>\n",
       "      <th>1959-04-01</th>\n",
       "      <td>2478.744</td>\n",
       "      <td>23.8989</td>\n",
       "      <td>64768.0</td>\n",
       "      <td>5.2</td>\n",
       "      <td>53321.0</td>\n",
       "      <td>19269.0</td>\n",
       "      <td>10905.0</td>\n",
       "      <td>1590.0</td>\n",
       "      <td>NaN</td>\n",
       "      <td>17.584</td>\n",
       "      <td>...</td>\n",
       "      <td>17871.0</td>\n",
       "      <td>NaN</td>\n",
       "      <td>NaN</td>\n",
       "      <td>NaN</td>\n",
       "      <td>NaN</td>\n",
       "      <td>NaN</td>\n",
       "      <td>NaN</td>\n",
       "      <td>139.7</td>\n",
       "      <td>290.1</td>\n",
       "      <td>18.7</td>\n",
       "    </tr>\n",
       "    <tr>\n",
       "      <th>1959-05-01</th>\n",
       "      <td>2493.228</td>\n",
       "      <td>24.2589</td>\n",
       "      <td>64699.0</td>\n",
       "      <td>5.1</td>\n",
       "      <td>53550.0</td>\n",
       "      <td>19378.0</td>\n",
       "      <td>10949.0</td>\n",
       "      <td>1498.0</td>\n",
       "      <td>NaN</td>\n",
       "      <td>17.796</td>\n",
       "      <td>...</td>\n",
       "      <td>18011.0</td>\n",
       "      <td>NaN</td>\n",
       "      <td>NaN</td>\n",
       "      <td>NaN</td>\n",
       "      <td>NaN</td>\n",
       "      <td>NaN</td>\n",
       "      <td>NaN</td>\n",
       "      <td>140.7</td>\n",
       "      <td>292.2</td>\n",
       "      <td>18.6</td>\n",
       "    </tr>\n",
       "    <tr>\n",
       "      <th>...</th>\n",
       "      <td>...</td>\n",
       "      <td>...</td>\n",
       "      <td>...</td>\n",
       "      <td>...</td>\n",
       "      <td>...</td>\n",
       "      <td>...</td>\n",
       "      <td>...</td>\n",
       "      <td>...</td>\n",
       "      <td>...</td>\n",
       "      <td>...</td>\n",
       "      <td>...</td>\n",
       "      <td>...</td>\n",
       "      <td>...</td>\n",
       "      <td>...</td>\n",
       "      <td>...</td>\n",
       "      <td>...</td>\n",
       "      <td>...</td>\n",
       "      <td>...</td>\n",
       "      <td>...</td>\n",
       "      <td>...</td>\n",
       "      <td>...</td>\n",
       "    </tr>\n",
       "    <tr>\n",
       "      <th>2020-05-01</th>\n",
       "      <td>18296.406</td>\n",
       "      <td>92.0613</td>\n",
       "      <td>137242.0</td>\n",
       "      <td>13.3</td>\n",
       "      <td>133028.0</td>\n",
       "      <td>19374.0</td>\n",
       "      <td>24858.0</td>\n",
       "      <td>1038.0</td>\n",
       "      <td>1216.0</td>\n",
       "      <td>108.449</td>\n",
       "      <td>...</td>\n",
       "      <td>NaN</td>\n",
       "      <td>686935.0</td>\n",
       "      <td>411695.0</td>\n",
       "      <td>161774.0</td>\n",
       "      <td>1107813.0</td>\n",
       "      <td>1933282.0</td>\n",
       "      <td>1.50</td>\n",
       "      <td>5035.3</td>\n",
       "      <td>17868.6</td>\n",
       "      <td>3217.6</td>\n",
       "    </tr>\n",
       "    <tr>\n",
       "      <th>2020-06-01</th>\n",
       "      <td>17990.747</td>\n",
       "      <td>97.6032</td>\n",
       "      <td>142182.0</td>\n",
       "      <td>11.1</td>\n",
       "      <td>137809.0</td>\n",
       "      <td>19859.0</td>\n",
       "      <td>25852.0</td>\n",
       "      <td>1265.0</td>\n",
       "      <td>1258.0</td>\n",
       "      <td>114.880</td>\n",
       "      <td>...</td>\n",
       "      <td>NaN</td>\n",
       "      <td>690353.0</td>\n",
       "      <td>438247.0</td>\n",
       "      <td>189822.0</td>\n",
       "      <td>1092630.0</td>\n",
       "      <td>1912335.0</td>\n",
       "      <td>1.37</td>\n",
       "      <td>5215.0</td>\n",
       "      <td>18164.1</td>\n",
       "      <td>3043.6</td>\n",
       "    </tr>\n",
       "    <tr>\n",
       "      <th>2020-07-01</th>\n",
       "      <td>18110.849</td>\n",
       "      <td>101.7499</td>\n",
       "      <td>143532.0</td>\n",
       "      <td>10.2</td>\n",
       "      <td>139570.0</td>\n",
       "      <td>19925.0</td>\n",
       "      <td>26136.0</td>\n",
       "      <td>1487.0</td>\n",
       "      <td>1483.0</td>\n",
       "      <td>116.322</td>\n",
       "      <td>...</td>\n",
       "      <td>NaN</td>\n",
       "      <td>686399.0</td>\n",
       "      <td>466927.0</td>\n",
       "      <td>202290.0</td>\n",
       "      <td>1084809.0</td>\n",
       "      <td>1914153.0</td>\n",
       "      <td>1.33</td>\n",
       "      <td>5331.8</td>\n",
       "      <td>18322.2</td>\n",
       "      <td>2718.5</td>\n",
       "    </tr>\n",
       "    <tr>\n",
       "      <th>2020-08-01</th>\n",
       "      <td>17609.010</td>\n",
       "      <td>102.4876</td>\n",
       "      <td>147288.0</td>\n",
       "      <td>8.4</td>\n",
       "      <td>141063.0</td>\n",
       "      <td>19978.0</td>\n",
       "      <td>26494.0</td>\n",
       "      <td>1373.0</td>\n",
       "      <td>1476.0</td>\n",
       "      <td>117.152</td>\n",
       "      <td>...</td>\n",
       "      <td>NaN</td>\n",
       "      <td>686479.0</td>\n",
       "      <td>469802.0</td>\n",
       "      <td>201259.0</td>\n",
       "      <td>1078431.0</td>\n",
       "      <td>1919935.0</td>\n",
       "      <td>1.32</td>\n",
       "      <td>5391.2</td>\n",
       "      <td>18404.0</td>\n",
       "      <td>2799.7</td>\n",
       "    </tr>\n",
       "    <tr>\n",
       "      <th>2020-09-01</th>\n",
       "      <td>17733.106</td>\n",
       "      <td>102.1034</td>\n",
       "      <td>147563.0</td>\n",
       "      <td>7.9</td>\n",
       "      <td>141735.0</td>\n",
       "      <td>20075.0</td>\n",
       "      <td>26579.0</td>\n",
       "      <td>1459.0</td>\n",
       "      <td>1545.0</td>\n",
       "      <td>118.599</td>\n",
       "      <td>...</td>\n",
       "      <td>NaN</td>\n",
       "      <td>686652.0</td>\n",
       "      <td>474974.0</td>\n",
       "      <td>201973.0</td>\n",
       "      <td>1075897.0</td>\n",
       "      <td>1932815.0</td>\n",
       "      <td>1.32</td>\n",
       "      <td>5502.5</td>\n",
       "      <td>18648.3</td>\n",
       "      <td>2852.8</td>\n",
       "    </tr>\n",
       "  </tbody>\n",
       "</table>\n",
       "<p>741 rows × 21 columns</p>\n",
       "</div>"
      ],
      "text/plain": [
       "                  RPI    INDPRO    CE16OV  UNRATE    PAYEMS   USGOOD    USTPU  \\\n",
       "1959-01-01   2437.296   22.6250   63868.0     6.0   52478.0  18796.0  10774.0   \n",
       "1959-02-01   2446.902   23.0681   63684.0     5.9   52688.0  18890.0  10816.0   \n",
       "1959-03-01   2462.689   23.4004   64267.0     5.6   53014.0  19069.0  10873.0   \n",
       "1959-04-01   2478.744   23.8989   64768.0     5.2   53321.0  19269.0  10905.0   \n",
       "1959-05-01   2493.228   24.2589   64699.0     5.1   53550.0  19378.0  10949.0   \n",
       "...               ...       ...       ...     ...       ...      ...      ...   \n",
       "2020-05-01  18296.406   92.0613  137242.0    13.3  133028.0  19374.0  24858.0   \n",
       "2020-06-01  17990.747   97.6032  142182.0    11.1  137809.0  19859.0  25852.0   \n",
       "2020-07-01  18110.849  101.7499  143532.0    10.2  139570.0  19925.0  26136.0   \n",
       "2020-08-01  17609.010  102.4876  147288.0     8.4  141063.0  19978.0  26494.0   \n",
       "2020-09-01  17733.106  102.1034  147563.0     7.9  141735.0  20075.0  26579.0   \n",
       "\n",
       "             HOUST  PERMIT  DPCERA3M086SBEA  ...   RETAIL    AMTMTI    AMTMNO  \\\n",
       "1959-01-01  1657.0     NaN           17.302  ...  17583.0       NaN       NaN   \n",
       "1959-02-01  1667.0     NaN           17.482  ...  17712.0       NaN       NaN   \n",
       "1959-03-01  1620.0     NaN           17.647  ...  17860.0       NaN       NaN   \n",
       "1959-04-01  1590.0     NaN           17.584  ...  17871.0       NaN       NaN   \n",
       "1959-05-01  1498.0     NaN           17.796  ...  18011.0       NaN       NaN   \n",
       "...            ...     ...              ...  ...      ...       ...       ...   \n",
       "2020-05-01  1038.0  1216.0          108.449  ...      NaN  686935.0  411695.0   \n",
       "2020-06-01  1265.0  1258.0          114.880  ...      NaN  690353.0  438247.0   \n",
       "2020-07-01  1487.0  1483.0          116.322  ...      NaN  686399.0  466927.0   \n",
       "2020-08-01  1373.0  1476.0          117.152  ...      NaN  686479.0  469802.0   \n",
       "2020-09-01  1459.0  1545.0          118.599  ...      NaN  686652.0  474974.0   \n",
       "\n",
       "              ACOGNO     AMDMUO     BUSINV  ISRATIO    M1SL     M2SL  TOTRESNS  \n",
       "1959-01-01       NaN        NaN        NaN      NaN   138.9    286.6      18.9  \n",
       "1959-02-01       NaN        NaN        NaN      NaN   139.4    287.7      18.6  \n",
       "1959-03-01       NaN        NaN        NaN      NaN   139.7    289.2      18.4  \n",
       "1959-04-01       NaN        NaN        NaN      NaN   139.7    290.1      18.7  \n",
       "1959-05-01       NaN        NaN        NaN      NaN   140.7    292.2      18.6  \n",
       "...              ...        ...        ...      ...     ...      ...       ...  \n",
       "2020-05-01  161774.0  1107813.0  1933282.0     1.50  5035.3  17868.6    3217.6  \n",
       "2020-06-01  189822.0  1092630.0  1912335.0     1.37  5215.0  18164.1    3043.6  \n",
       "2020-07-01  202290.0  1084809.0  1914153.0     1.33  5331.8  18322.2    2718.5  \n",
       "2020-08-01  201259.0  1078431.0  1919935.0     1.32  5391.2  18404.0    2799.7  \n",
       "2020-09-01  201973.0  1075897.0  1932815.0     1.32  5502.5  18648.3    2852.8  \n",
       "\n",
       "[741 rows x 21 columns]"
      ]
     },
     "execution_count": 5,
     "metadata": {},
     "output_type": "execute_result"
    }
   ],
   "source": [
    "df"
   ]
  },
  {
   "cell_type": "markdown",
   "metadata": {
    "papermill": {
     "duration": 0.023885,
     "end_time": "2020-11-21T05:46:14.566875",
     "exception": false,
     "start_time": "2020-11-21T05:46:14.542990",
     "status": "completed"
    },
    "tags": []
   },
   "source": [
    "Drop columns which have none/missing values in selected time frame, i.e. 1996 to present."
   ]
  },
  {
   "cell_type": "code",
   "execution_count": 6,
   "metadata": {
    "execution": {
     "iopub.execute_input": "2020-11-21T05:46:14.625259Z",
     "iopub.status.busy": "2020-11-21T05:46:14.624367Z",
     "iopub.status.idle": "2020-11-21T05:46:14.657560Z",
     "shell.execute_reply": "2020-11-21T05:46:14.656921Z"
    },
    "papermill": {
     "duration": 0.066822,
     "end_time": "2020-11-21T05:46:14.657673",
     "exception": false,
     "start_time": "2020-11-21T05:46:14.590851",
     "status": "completed"
    },
    "tags": []
   },
   "outputs": [],
   "source": [
    "for col in df.columns.to_list():\n",
    "    if df['1996-01-01':][col].isnull().any():\n",
    "        df.drop(col,axis=1,inplace=True)"
   ]
  },
  {
   "cell_type": "code",
   "execution_count": 7,
   "metadata": {
    "execution": {
     "iopub.execute_input": "2020-11-21T05:46:14.714188Z",
     "iopub.status.busy": "2020-11-21T05:46:14.713484Z",
     "iopub.status.idle": "2020-11-21T05:46:14.716839Z",
     "shell.execute_reply": "2020-11-21T05:46:14.716256Z"
    },
    "papermill": {
     "duration": 0.034766,
     "end_time": "2020-11-21T05:46:14.716953",
     "exception": false,
     "start_time": "2020-11-21T05:46:14.682187",
     "status": "completed"
    },
    "tags": []
   },
   "outputs": [],
   "source": [
    "df=df['1996-01-01':]"
   ]
  },
  {
   "cell_type": "markdown",
   "metadata": {
    "papermill": {
     "duration": 0.024777,
     "end_time": "2020-11-21T05:46:14.766460",
     "exception": false,
     "start_time": "2020-11-21T05:46:14.741683",
     "status": "completed"
    },
    "tags": []
   },
   "source": [
    "#### Import data for stock market indexes manually using yahoo finance website."
   ]
  },
  {
   "cell_type": "code",
   "execution_count": 8,
   "metadata": {
    "execution": {
     "iopub.execute_input": "2020-11-21T05:46:14.825480Z",
     "iopub.status.busy": "2020-11-21T05:46:14.824723Z",
     "iopub.status.idle": "2020-11-21T05:46:14.832063Z",
     "shell.execute_reply": "2020-11-21T05:46:14.832620Z"
    },
    "papermill": {
     "duration": 0.041632,
     "end_time": "2020-11-21T05:46:14.832792",
     "exception": false,
     "start_time": "2020-11-21T05:46:14.791160",
     "status": "completed"
    },
    "tags": []
   },
   "outputs": [],
   "source": [
    "import pandas as pd\n",
    "snprets=pd.read_csv(f'../input/us-macroeconomic-data-19962020-source-fred/GSPC (1).csv',header=0,index_col=0,parse_dates=True)\n"
   ]
  },
  {
   "cell_type": "code",
   "execution_count": 9,
   "metadata": {
    "execution": {
     "iopub.execute_input": "2020-11-21T05:46:14.903149Z",
     "iopub.status.busy": "2020-11-21T05:46:14.902242Z",
     "iopub.status.idle": "2020-11-21T05:46:14.908648Z",
     "shell.execute_reply": "2020-11-21T05:46:14.907965Z"
    },
    "papermill": {
     "duration": 0.049845,
     "end_time": "2020-11-21T05:46:14.908764",
     "exception": false,
     "start_time": "2020-11-21T05:46:14.858919",
     "status": "completed"
    },
    "tags": []
   },
   "outputs": [
    {
     "data": {
      "text/html": [
       "<div>\n",
       "<style scoped>\n",
       "    .dataframe tbody tr th:only-of-type {\n",
       "        vertical-align: middle;\n",
       "    }\n",
       "\n",
       "    .dataframe tbody tr th {\n",
       "        vertical-align: top;\n",
       "    }\n",
       "\n",
       "    .dataframe thead th {\n",
       "        text-align: right;\n",
       "    }\n",
       "</style>\n",
       "<table border=\"1\" class=\"dataframe\">\n",
       "  <thead>\n",
       "    <tr style=\"text-align: right;\">\n",
       "      <th></th>\n",
       "      <th>SP500</th>\n",
       "    </tr>\n",
       "    <tr>\n",
       "      <th>Date</th>\n",
       "      <th></th>\n",
       "    </tr>\n",
       "  </thead>\n",
       "  <tbody>\n",
       "    <tr>\n",
       "      <th>1996-01-01</th>\n",
       "      <td>636.020020</td>\n",
       "    </tr>\n",
       "    <tr>\n",
       "      <th>1996-02-01</th>\n",
       "      <td>640.429993</td>\n",
       "    </tr>\n",
       "    <tr>\n",
       "      <th>1996-03-01</th>\n",
       "      <td>645.500000</td>\n",
       "    </tr>\n",
       "    <tr>\n",
       "      <th>1996-04-01</th>\n",
       "      <td>654.169983</td>\n",
       "    </tr>\n",
       "    <tr>\n",
       "      <th>1996-05-01</th>\n",
       "      <td>669.119995</td>\n",
       "    </tr>\n",
       "    <tr>\n",
       "      <th>...</th>\n",
       "      <td>...</td>\n",
       "    </tr>\n",
       "    <tr>\n",
       "      <th>2020-08-01</th>\n",
       "      <td>3500.310059</td>\n",
       "    </tr>\n",
       "    <tr>\n",
       "      <th>2020-09-01</th>\n",
       "      <td>3363.000000</td>\n",
       "    </tr>\n",
       "    <tr>\n",
       "      <th>2020-10-01</th>\n",
       "      <td>3269.959961</td>\n",
       "    </tr>\n",
       "    <tr>\n",
       "      <th>2020-11-01</th>\n",
       "      <td>3567.790039</td>\n",
       "    </tr>\n",
       "    <tr>\n",
       "      <th>2020-11-19</th>\n",
       "      <td>3581.870117</td>\n",
       "    </tr>\n",
       "  </tbody>\n",
       "</table>\n",
       "<p>300 rows × 1 columns</p>\n",
       "</div>"
      ],
      "text/plain": [
       "                  SP500\n",
       "Date                   \n",
       "1996-01-01   636.020020\n",
       "1996-02-01   640.429993\n",
       "1996-03-01   645.500000\n",
       "1996-04-01   654.169983\n",
       "1996-05-01   669.119995\n",
       "...                 ...\n",
       "2020-08-01  3500.310059\n",
       "2020-09-01  3363.000000\n",
       "2020-10-01  3269.959961\n",
       "2020-11-01  3567.790039\n",
       "2020-11-19  3581.870117\n",
       "\n",
       "[300 rows x 1 columns]"
      ]
     },
     "execution_count": 9,
     "metadata": {},
     "output_type": "execute_result"
    }
   ],
   "source": [
    "snprets.drop(['Open','High','Low','Close','Volume'],1,inplace=True)\n",
    "snprets.rename(columns={'Adj Close':'SP500'},inplace=True)\n",
    "snprets"
   ]
  },
  {
   "cell_type": "code",
   "execution_count": 10,
   "metadata": {
    "execution": {
     "iopub.execute_input": "2020-11-21T05:46:14.971204Z",
     "iopub.status.busy": "2020-11-21T05:46:14.970003Z",
     "iopub.status.idle": "2020-11-21T05:46:14.988075Z",
     "shell.execute_reply": "2020-11-21T05:46:14.987143Z"
    },
    "papermill": {
     "duration": 0.051334,
     "end_time": "2020-11-21T05:46:14.988219",
     "exception": false,
     "start_time": "2020-11-21T05:46:14.936885",
     "status": "completed"
    },
    "tags": []
   },
   "outputs": [],
   "source": [
    "nasrets=pd.read_csv(f\"../input/us-macroeconomic-data-19962020-source-fred/IXIC.csv\",header=0,index_col=0,parse_dates=True)\n",
    "nasrets.drop(['Open','High','Low','Close','Volume'],1,inplace=True)\n",
    "nasrets.rename(columns={'Adj Close':'NASDAQ'},inplace=True)\n",
    "\n",
    "goldbar=pd.read_csv(f\"../input/us-macroeconomic-data-19962020-source-fred/GOLD.csv\",index_col=0,parse_dates=True)\n",
    "goldbar.drop(['Open','High','Low','Close','Volume'],1,inplace=True)\n",
    "goldbar.rename(columns={'Adj Close':'GOLDBAR'},inplace=True)"
   ]
  },
  {
   "cell_type": "code",
   "execution_count": 11,
   "metadata": {
    "execution": {
     "iopub.execute_input": "2020-11-21T05:46:15.080403Z",
     "iopub.status.busy": "2020-11-21T05:46:15.079640Z",
     "iopub.status.idle": "2020-11-21T05:46:15.086814Z",
     "shell.execute_reply": "2020-11-21T05:46:15.086012Z"
    },
    "papermill": {
     "duration": 0.060197,
     "end_time": "2020-11-21T05:46:15.086959",
     "exception": false,
     "start_time": "2020-11-21T05:46:15.026762",
     "status": "completed"
    },
    "tags": []
   },
   "outputs": [],
   "source": [
    "df=pd.concat([df,snprets,nasrets,goldbar],axis=1)"
   ]
  },
  {
   "cell_type": "code",
   "execution_count": 12,
   "metadata": {
    "execution": {
     "iopub.execute_input": "2020-11-21T05:46:15.174397Z",
     "iopub.status.busy": "2020-11-21T05:46:15.173694Z",
     "iopub.status.idle": "2020-11-21T05:46:15.204873Z",
     "shell.execute_reply": "2020-11-21T05:46:15.204174Z"
    },
    "papermill": {
     "duration": 0.07838,
     "end_time": "2020-11-21T05:46:15.204985",
     "exception": false,
     "start_time": "2020-11-21T05:46:15.126605",
     "status": "completed"
    },
    "tags": []
   },
   "outputs": [],
   "source": [
    "snpdiv=pd.read_csv(f\"../input/us-macroeconomic-data-19962020-source-fred/snpdiv.csv\",header=0,index_col=0,parse_dates=True)\n",
    "snpdiv=snpdiv['1996-01-01':]\n",
    "\n",
    "PEratio=pd.read_csv(f\"../input/us-macroeconomic-data-19962020-source-fred/sp-500-pe-ratio-price-to-earnings-chart.csv\",index_col=0,parse_dates=True)\n",
    "PEratio=PEratio['1996-01-01':]\n",
    "\n",
    "regime=pd.read_csv(f\"../input/us-macroeconomic-data-19962020-source-fred/Recession_Periods.csv\",index_col=0,parse_dates=True)\n",
    "regime=regime['01-01-1996':]"
   ]
  },
  {
   "cell_type": "markdown",
   "metadata": {
    "papermill": {
     "duration": 0.026585,
     "end_time": "2020-11-21T05:46:15.258289",
     "exception": false,
     "start_time": "2020-11-21T05:46:15.231704",
     "status": "completed"
    },
    "tags": []
   },
   "source": [
    "Consistent with the previous works in the literature, we use business cycle dating chronology provided by NBER which involves dates when recession began and ended in US economy. According to NBER's statistics we have 8 recession periods in our dataset where duration is changing from 6 to 18 months. We represent regimes as \"Normal\" and \"Recession\" in our dataset.\n",
    "NBER mentions in chronology dating Aug 2020 update that the peak period in February 2020 is 128 months from previous trough. This it is assumed that March 2020 is a trough, i.e. Recession label and so are following three months."
   ]
  },
  {
   "cell_type": "code",
   "execution_count": 13,
   "metadata": {
    "execution": {
     "iopub.execute_input": "2020-11-21T05:46:15.318365Z",
     "iopub.status.busy": "2020-11-21T05:46:15.315249Z",
     "iopub.status.idle": "2020-11-21T05:46:15.323100Z",
     "shell.execute_reply": "2020-11-21T05:46:15.322523Z"
    },
    "papermill": {
     "duration": 0.039012,
     "end_time": "2020-11-21T05:46:15.323218",
     "exception": false,
     "start_time": "2020-11-21T05:46:15.284206",
     "status": "completed"
    },
    "tags": []
   },
   "outputs": [],
   "source": [
    "df=df['1996-01-01':'2020-06-01']"
   ]
  },
  {
   "cell_type": "code",
   "execution_count": 14,
   "metadata": {
    "execution": {
     "iopub.execute_input": "2020-11-21T05:46:15.381645Z",
     "iopub.status.busy": "2020-11-21T05:46:15.380946Z",
     "iopub.status.idle": "2020-11-21T05:46:15.385759Z",
     "shell.execute_reply": "2020-11-21T05:46:15.385179Z"
    },
    "papermill": {
     "duration": 0.03697,
     "end_time": "2020-11-21T05:46:15.385871",
     "exception": false,
     "start_time": "2020-11-21T05:46:15.348901",
     "status": "completed"
    },
    "tags": []
   },
   "outputs": [],
   "source": [
    "df=pd.concat([df,regime],axis=1)"
   ]
  },
  {
   "cell_type": "markdown",
   "metadata": {
    "papermill": {
     "duration": 0.026734,
     "end_time": "2020-11-21T05:46:15.438396",
     "exception": false,
     "start_time": "2020-11-21T05:46:15.411662",
     "status": "completed"
    },
    "tags": []
   },
   "source": [
    "The dates of P/E ratio dataset and dividend yield dataset differ from df."
   ]
  },
  {
   "cell_type": "code",
   "execution_count": 15,
   "metadata": {
    "execution": {
     "iopub.execute_input": "2020-11-21T05:46:15.497982Z",
     "iopub.status.busy": "2020-11-21T05:46:15.497316Z",
     "iopub.status.idle": "2020-11-21T05:46:15.501251Z",
     "shell.execute_reply": "2020-11-21T05:46:15.500664Z"
    },
    "papermill": {
     "duration": 0.037239,
     "end_time": "2020-11-21T05:46:15.501388",
     "exception": false,
     "start_time": "2020-11-21T05:46:15.464149",
     "status": "completed"
    },
    "tags": []
   },
   "outputs": [],
   "source": [
    "df.index = pd.to_datetime(df.index, format=\"%Y%m\").to_period('M')"
   ]
  },
  {
   "cell_type": "code",
   "execution_count": 16,
   "metadata": {
    "execution": {
     "iopub.execute_input": "2020-11-21T05:46:15.560796Z",
     "iopub.status.busy": "2020-11-21T05:46:15.560067Z",
     "iopub.status.idle": "2020-11-21T05:46:15.563157Z",
     "shell.execute_reply": "2020-11-21T05:46:15.564090Z"
    },
    "papermill": {
     "duration": 0.036926,
     "end_time": "2020-11-21T05:46:15.564359",
     "exception": false,
     "start_time": "2020-11-21T05:46:15.527433",
     "status": "completed"
    },
    "tags": []
   },
   "outputs": [],
   "source": [
    "snpdiv.index = pd.to_datetime(snpdiv.index, format=\"%Y%m\").to_period('M')"
   ]
  },
  {
   "cell_type": "code",
   "execution_count": 17,
   "metadata": {
    "execution": {
     "iopub.execute_input": "2020-11-21T05:46:15.627011Z",
     "iopub.status.busy": "2020-11-21T05:46:15.623841Z",
     "iopub.status.idle": "2020-11-21T05:46:15.631114Z",
     "shell.execute_reply": "2020-11-21T05:46:15.630472Z"
    },
    "papermill": {
     "duration": 0.039813,
     "end_time": "2020-11-21T05:46:15.631233",
     "exception": false,
     "start_time": "2020-11-21T05:46:15.591420",
     "status": "completed"
    },
    "tags": []
   },
   "outputs": [],
   "source": [
    "PEratio['index']=df.index\n",
    "PEratio.index=PEratio['index']\n",
    "PEratio=PEratio[' value']\n",
    "PEratio=pd.DataFrame(PEratio)"
   ]
  },
  {
   "cell_type": "code",
   "execution_count": 18,
   "metadata": {
    "execution": {
     "iopub.execute_input": "2020-11-21T05:46:15.695835Z",
     "iopub.status.busy": "2020-11-21T05:46:15.695212Z",
     "iopub.status.idle": "2020-11-21T05:46:15.698830Z",
     "shell.execute_reply": "2020-11-21T05:46:15.698186Z"
    },
    "papermill": {
     "duration": 0.040006,
     "end_time": "2020-11-21T05:46:15.698937",
     "exception": false,
     "start_time": "2020-11-21T05:46:15.658931",
     "status": "completed"
    },
    "tags": []
   },
   "outputs": [],
   "source": [
    "df=pd.concat([df,PEratio,snpdiv],1)"
   ]
  },
  {
   "cell_type": "code",
   "execution_count": 19,
   "metadata": {
    "execution": {
     "iopub.execute_input": "2020-11-21T05:46:15.760169Z",
     "iopub.status.busy": "2020-11-21T05:46:15.759304Z",
     "iopub.status.idle": "2020-11-21T05:46:15.763373Z",
     "shell.execute_reply": "2020-11-21T05:46:15.764060Z"
    },
    "papermill": {
     "duration": 0.03813,
     "end_time": "2020-11-21T05:46:15.764251",
     "exception": false,
     "start_time": "2020-11-21T05:46:15.726121",
     "status": "completed"
    },
    "tags": []
   },
   "outputs": [],
   "source": [
    "df=df[:'2020-06']"
   ]
  },
  {
   "cell_type": "code",
   "execution_count": 20,
   "metadata": {
    "execution": {
     "iopub.execute_input": "2020-11-21T05:46:15.851466Z",
     "iopub.status.busy": "2020-11-21T05:46:15.850540Z",
     "iopub.status.idle": "2020-11-21T05:46:15.855750Z",
     "shell.execute_reply": "2020-11-21T05:46:15.854630Z"
    },
    "papermill": {
     "duration": 0.051484,
     "end_time": "2020-11-21T05:46:15.855901",
     "exception": false,
     "start_time": "2020-11-21T05:46:15.804417",
     "status": "completed"
    },
    "tags": []
   },
   "outputs": [],
   "source": [
    "df.rename(columns={' value':'P/E'},inplace=True)"
   ]
  },
  {
   "cell_type": "code",
   "execution_count": 21,
   "metadata": {
    "execution": {
     "iopub.execute_input": "2020-11-21T05:46:15.944594Z",
     "iopub.status.busy": "2020-11-21T05:46:15.943293Z",
     "iopub.status.idle": "2020-11-21T05:46:15.949669Z",
     "shell.execute_reply": "2020-11-21T05:46:15.949069Z"
    },
    "papermill": {
     "duration": 0.052374,
     "end_time": "2020-11-21T05:46:15.949834",
     "exception": false,
     "start_time": "2020-11-21T05:46:15.897460",
     "status": "completed"
    },
    "tags": []
   },
   "outputs": [],
   "source": [
    "df=df.drop_duplicates(subset='SP500')"
   ]
  },
  {
   "cell_type": "code",
   "execution_count": 22,
   "metadata": {
    "execution": {
     "iopub.execute_input": "2020-11-21T05:46:16.019718Z",
     "iopub.status.busy": "2020-11-21T05:46:16.011377Z",
     "iopub.status.idle": "2020-11-21T05:46:16.048514Z",
     "shell.execute_reply": "2020-11-21T05:46:16.047891Z"
    },
    "papermill": {
     "duration": 0.072065,
     "end_time": "2020-11-21T05:46:16.048624",
     "exception": false,
     "start_time": "2020-11-21T05:46:15.976559",
     "status": "completed"
    },
    "tags": []
   },
   "outputs": [
    {
     "data": {
      "text/html": [
       "<div>\n",
       "<style scoped>\n",
       "    .dataframe tbody tr th:only-of-type {\n",
       "        vertical-align: middle;\n",
       "    }\n",
       "\n",
       "    .dataframe tbody tr th {\n",
       "        vertical-align: top;\n",
       "    }\n",
       "\n",
       "    .dataframe thead th {\n",
       "        text-align: right;\n",
       "    }\n",
       "</style>\n",
       "<table border=\"1\" class=\"dataframe\">\n",
       "  <thead>\n",
       "    <tr style=\"text-align: right;\">\n",
       "      <th></th>\n",
       "      <th>RPI</th>\n",
       "      <th>INDPRO</th>\n",
       "      <th>CE16OV</th>\n",
       "      <th>UNRATE</th>\n",
       "      <th>PAYEMS</th>\n",
       "      <th>USGOOD</th>\n",
       "      <th>USTPU</th>\n",
       "      <th>HOUST</th>\n",
       "      <th>PERMIT</th>\n",
       "      <th>DPCERA3M086SBEA</th>\n",
       "      <th>...</th>\n",
       "      <th>ISRATIO</th>\n",
       "      <th>M1SL</th>\n",
       "      <th>M2SL</th>\n",
       "      <th>TOTRESNS</th>\n",
       "      <th>SP500</th>\n",
       "      <th>NASDAQ</th>\n",
       "      <th>GOLDBAR</th>\n",
       "      <th>Regime</th>\n",
       "      <th>P/E</th>\n",
       "      <th>Dividend Yield</th>\n",
       "    </tr>\n",
       "  </thead>\n",
       "  <tbody>\n",
       "    <tr>\n",
       "      <th>1996-01</th>\n",
       "      <td>8909.327</td>\n",
       "      <td>74.6841</td>\n",
       "      <td>125125.0</td>\n",
       "      <td>5.6</td>\n",
       "      <td>118316.0</td>\n",
       "      <td>23196.0</td>\n",
       "      <td>23947.0</td>\n",
       "      <td>1467.0</td>\n",
       "      <td>1387.0</td>\n",
       "      <td>63.691</td>\n",
       "      <td>...</td>\n",
       "      <td>1.50</td>\n",
       "      <td>1123.5</td>\n",
       "      <td>3647.9</td>\n",
       "      <td>56.9</td>\n",
       "      <td>636.020020</td>\n",
       "      <td>1059.790039</td>\n",
       "      <td>20.754421</td>\n",
       "      <td>Normal</td>\n",
       "      <td>18.6845</td>\n",
       "      <td>2.26</td>\n",
       "    </tr>\n",
       "    <tr>\n",
       "      <th>1996-02</th>\n",
       "      <td>8983.863</td>\n",
       "      <td>75.8344</td>\n",
       "      <td>125639.0</td>\n",
       "      <td>5.5</td>\n",
       "      <td>118739.0</td>\n",
       "      <td>23280.0</td>\n",
       "      <td>23988.0</td>\n",
       "      <td>1491.0</td>\n",
       "      <td>1420.0</td>\n",
       "      <td>64.180</td>\n",
       "      <td>...</td>\n",
       "      <td>1.50</td>\n",
       "      <td>1118.5</td>\n",
       "      <td>3661.8</td>\n",
       "      <td>53.8</td>\n",
       "      <td>640.429993</td>\n",
       "      <td>1100.050049</td>\n",
       "      <td>21.372637</td>\n",
       "      <td>Normal</td>\n",
       "      <td>18.8140</td>\n",
       "      <td>2.16</td>\n",
       "    </tr>\n",
       "    <tr>\n",
       "      <th>1996-03</th>\n",
       "      <td>9015.588</td>\n",
       "      <td>75.7631</td>\n",
       "      <td>125862.0</td>\n",
       "      <td>5.5</td>\n",
       "      <td>118993.0</td>\n",
       "      <td>23276.0</td>\n",
       "      <td>24030.0</td>\n",
       "      <td>1424.0</td>\n",
       "      <td>1437.0</td>\n",
       "      <td>64.491</td>\n",
       "      <td>...</td>\n",
       "      <td>1.46</td>\n",
       "      <td>1122.6</td>\n",
       "      <td>3687.0</td>\n",
       "      <td>54.9</td>\n",
       "      <td>645.500000</td>\n",
       "      <td>1101.400024</td>\n",
       "      <td>21.460953</td>\n",
       "      <td>Normal</td>\n",
       "      <td>18.9630</td>\n",
       "      <td>2.18</td>\n",
       "    </tr>\n",
       "    <tr>\n",
       "      <th>1996-04</th>\n",
       "      <td>9039.466</td>\n",
       "      <td>76.4562</td>\n",
       "      <td>125994.0</td>\n",
       "      <td>5.6</td>\n",
       "      <td>119158.0</td>\n",
       "      <td>23316.0</td>\n",
       "      <td>24043.0</td>\n",
       "      <td>1516.0</td>\n",
       "      <td>1463.0</td>\n",
       "      <td>64.729</td>\n",
       "      <td>...</td>\n",
       "      <td>1.46</td>\n",
       "      <td>1124.8</td>\n",
       "      <td>3697.8</td>\n",
       "      <td>55.9</td>\n",
       "      <td>654.169983</td>\n",
       "      <td>1190.520020</td>\n",
       "      <td>21.637589</td>\n",
       "      <td>Normal</td>\n",
       "      <td>18.7388</td>\n",
       "      <td>2.19</td>\n",
       "    </tr>\n",
       "    <tr>\n",
       "      <th>1996-05</th>\n",
       "      <td>9078.928</td>\n",
       "      <td>77.0161</td>\n",
       "      <td>126244.0</td>\n",
       "      <td>5.6</td>\n",
       "      <td>119486.0</td>\n",
       "      <td>23358.0</td>\n",
       "      <td>24137.0</td>\n",
       "      <td>1504.0</td>\n",
       "      <td>1457.0</td>\n",
       "      <td>64.813</td>\n",
       "      <td>...</td>\n",
       "      <td>1.45</td>\n",
       "      <td>1116.5</td>\n",
       "      <td>3709.6</td>\n",
       "      <td>53.2</td>\n",
       "      <td>669.119995</td>\n",
       "      <td>1243.430054</td>\n",
       "      <td>22.255806</td>\n",
       "      <td>Normal</td>\n",
       "      <td>19.1670</td>\n",
       "      <td>2.15</td>\n",
       "    </tr>\n",
       "    <tr>\n",
       "      <th>...</th>\n",
       "      <td>...</td>\n",
       "      <td>...</td>\n",
       "      <td>...</td>\n",
       "      <td>...</td>\n",
       "      <td>...</td>\n",
       "      <td>...</td>\n",
       "      <td>...</td>\n",
       "      <td>...</td>\n",
       "      <td>...</td>\n",
       "      <td>...</td>\n",
       "      <td>...</td>\n",
       "      <td>...</td>\n",
       "      <td>...</td>\n",
       "      <td>...</td>\n",
       "      <td>...</td>\n",
       "      <td>...</td>\n",
       "      <td>...</td>\n",
       "      <td>...</td>\n",
       "      <td>...</td>\n",
       "      <td>...</td>\n",
       "      <td>...</td>\n",
       "    </tr>\n",
       "    <tr>\n",
       "      <th>2020-02</th>\n",
       "      <td>17219.643</td>\n",
       "      <td>109.2966</td>\n",
       "      <td>158759.0</td>\n",
       "      <td>3.5</td>\n",
       "      <td>152463.0</td>\n",
       "      <td>21205.0</td>\n",
       "      <td>27830.0</td>\n",
       "      <td>1567.0</td>\n",
       "      <td>1438.0</td>\n",
       "      <td>121.765</td>\n",
       "      <td>...</td>\n",
       "      <td>1.38</td>\n",
       "      <td>4003.1</td>\n",
       "      <td>15446.9</td>\n",
       "      <td>1726.9</td>\n",
       "      <td>2954.219971</td>\n",
       "      <td>8567.370117</td>\n",
       "      <td>18.868309</td>\n",
       "      <td>Normal</td>\n",
       "      <td>25.3952</td>\n",
       "      <td>1.97</td>\n",
       "    </tr>\n",
       "    <tr>\n",
       "      <th>2020-03</th>\n",
       "      <td>16947.234</td>\n",
       "      <td>104.5221</td>\n",
       "      <td>155772.0</td>\n",
       "      <td>4.4</td>\n",
       "      <td>151090.0</td>\n",
       "      <td>21086.0</td>\n",
       "      <td>27723.0</td>\n",
       "      <td>1269.0</td>\n",
       "      <td>1356.0</td>\n",
       "      <td>113.894</td>\n",
       "      <td>...</td>\n",
       "      <td>1.45</td>\n",
       "      <td>4256.7</td>\n",
       "      <td>15989.9</td>\n",
       "      <td>2099.4</td>\n",
       "      <td>2584.590088</td>\n",
       "      <td>7700.100098</td>\n",
       "      <td>18.215258</td>\n",
       "      <td>Recession</td>\n",
       "      <td>22.2177</td>\n",
       "      <td>2.25</td>\n",
       "    </tr>\n",
       "    <tr>\n",
       "      <th>2020-04</th>\n",
       "      <td>19124.430</td>\n",
       "      <td>91.2658</td>\n",
       "      <td>133403.0</td>\n",
       "      <td>14.7</td>\n",
       "      <td>130303.0</td>\n",
       "      <td>18698.0</td>\n",
       "      <td>24475.0</td>\n",
       "      <td>934.0</td>\n",
       "      <td>1066.0</td>\n",
       "      <td>99.932</td>\n",
       "      <td>...</td>\n",
       "      <td>1.67</td>\n",
       "      <td>4799.1</td>\n",
       "      <td>17020.1</td>\n",
       "      <td>2953.6</td>\n",
       "      <td>2912.429932</td>\n",
       "      <td>8889.549805</td>\n",
       "      <td>25.572948</td>\n",
       "      <td>Recession</td>\n",
       "      <td>25.0359</td>\n",
       "      <td>2.41</td>\n",
       "    </tr>\n",
       "    <tr>\n",
       "      <th>2020-05</th>\n",
       "      <td>18296.406</td>\n",
       "      <td>92.0613</td>\n",
       "      <td>137242.0</td>\n",
       "      <td>13.3</td>\n",
       "      <td>133028.0</td>\n",
       "      <td>19374.0</td>\n",
       "      <td>24858.0</td>\n",
       "      <td>1038.0</td>\n",
       "      <td>1216.0</td>\n",
       "      <td>108.449</td>\n",
       "      <td>...</td>\n",
       "      <td>1.50</td>\n",
       "      <td>5035.3</td>\n",
       "      <td>17868.6</td>\n",
       "      <td>3217.6</td>\n",
       "      <td>3044.310059</td>\n",
       "      <td>9489.870117</td>\n",
       "      <td>23.862782</td>\n",
       "      <td>Recession</td>\n",
       "      <td>26.1696</td>\n",
       "      <td>2.10</td>\n",
       "    </tr>\n",
       "    <tr>\n",
       "      <th>2020-06</th>\n",
       "      <td>17990.747</td>\n",
       "      <td>97.6032</td>\n",
       "      <td>142182.0</td>\n",
       "      <td>11.1</td>\n",
       "      <td>137809.0</td>\n",
       "      <td>19859.0</td>\n",
       "      <td>25852.0</td>\n",
       "      <td>1265.0</td>\n",
       "      <td>1258.0</td>\n",
       "      <td>114.880</td>\n",
       "      <td>...</td>\n",
       "      <td>1.37</td>\n",
       "      <td>5215.0</td>\n",
       "      <td>18164.1</td>\n",
       "      <td>3043.6</td>\n",
       "      <td>3100.290039</td>\n",
       "      <td>10058.769531</td>\n",
       "      <td>26.864592</td>\n",
       "      <td>Recession</td>\n",
       "      <td>26.6508</td>\n",
       "      <td>1.95</td>\n",
       "    </tr>\n",
       "  </tbody>\n",
       "</table>\n",
       "<p>293 rows × 25 columns</p>\n",
       "</div>"
      ],
      "text/plain": [
       "               RPI    INDPRO    CE16OV  UNRATE    PAYEMS   USGOOD    USTPU  \\\n",
       "1996-01   8909.327   74.6841  125125.0     5.6  118316.0  23196.0  23947.0   \n",
       "1996-02   8983.863   75.8344  125639.0     5.5  118739.0  23280.0  23988.0   \n",
       "1996-03   9015.588   75.7631  125862.0     5.5  118993.0  23276.0  24030.0   \n",
       "1996-04   9039.466   76.4562  125994.0     5.6  119158.0  23316.0  24043.0   \n",
       "1996-05   9078.928   77.0161  126244.0     5.6  119486.0  23358.0  24137.0   \n",
       "...            ...       ...       ...     ...       ...      ...      ...   \n",
       "2020-02  17219.643  109.2966  158759.0     3.5  152463.0  21205.0  27830.0   \n",
       "2020-03  16947.234  104.5221  155772.0     4.4  151090.0  21086.0  27723.0   \n",
       "2020-04  19124.430   91.2658  133403.0    14.7  130303.0  18698.0  24475.0   \n",
       "2020-05  18296.406   92.0613  137242.0    13.3  133028.0  19374.0  24858.0   \n",
       "2020-06  17990.747   97.6032  142182.0    11.1  137809.0  19859.0  25852.0   \n",
       "\n",
       "          HOUST  PERMIT  DPCERA3M086SBEA  ...  ISRATIO    M1SL     M2SL  \\\n",
       "1996-01  1467.0  1387.0           63.691  ...     1.50  1123.5   3647.9   \n",
       "1996-02  1491.0  1420.0           64.180  ...     1.50  1118.5   3661.8   \n",
       "1996-03  1424.0  1437.0           64.491  ...     1.46  1122.6   3687.0   \n",
       "1996-04  1516.0  1463.0           64.729  ...     1.46  1124.8   3697.8   \n",
       "1996-05  1504.0  1457.0           64.813  ...     1.45  1116.5   3709.6   \n",
       "...         ...     ...              ...  ...      ...     ...      ...   \n",
       "2020-02  1567.0  1438.0          121.765  ...     1.38  4003.1  15446.9   \n",
       "2020-03  1269.0  1356.0          113.894  ...     1.45  4256.7  15989.9   \n",
       "2020-04   934.0  1066.0           99.932  ...     1.67  4799.1  17020.1   \n",
       "2020-05  1038.0  1216.0          108.449  ...     1.50  5035.3  17868.6   \n",
       "2020-06  1265.0  1258.0          114.880  ...     1.37  5215.0  18164.1   \n",
       "\n",
       "         TOTRESNS        SP500        NASDAQ    GOLDBAR     Regime      P/E  \\\n",
       "1996-01      56.9   636.020020   1059.790039  20.754421     Normal  18.6845   \n",
       "1996-02      53.8   640.429993   1100.050049  21.372637     Normal  18.8140   \n",
       "1996-03      54.9   645.500000   1101.400024  21.460953     Normal  18.9630   \n",
       "1996-04      55.9   654.169983   1190.520020  21.637589     Normal  18.7388   \n",
       "1996-05      53.2   669.119995   1243.430054  22.255806     Normal  19.1670   \n",
       "...           ...          ...           ...        ...        ...      ...   \n",
       "2020-02    1726.9  2954.219971   8567.370117  18.868309     Normal  25.3952   \n",
       "2020-03    2099.4  2584.590088   7700.100098  18.215258  Recession  22.2177   \n",
       "2020-04    2953.6  2912.429932   8889.549805  25.572948  Recession  25.0359   \n",
       "2020-05    3217.6  3044.310059   9489.870117  23.862782  Recession  26.1696   \n",
       "2020-06    3043.6  3100.290039  10058.769531  26.864592  Recession  26.6508   \n",
       "\n",
       "         Dividend Yield  \n",
       "1996-01            2.26  \n",
       "1996-02            2.16  \n",
       "1996-03            2.18  \n",
       "1996-04            2.19  \n",
       "1996-05            2.15  \n",
       "...                 ...  \n",
       "2020-02            1.97  \n",
       "2020-03            2.25  \n",
       "2020-04            2.41  \n",
       "2020-05            2.10  \n",
       "2020-06            1.95  \n",
       "\n",
       "[293 rows x 25 columns]"
      ]
     },
     "execution_count": 22,
     "metadata": {},
     "output_type": "execute_result"
    }
   ],
   "source": [
    "df"
   ]
  },
  {
   "cell_type": "markdown",
   "metadata": {
    "papermill": {
     "duration": 0.02833,
     "end_time": "2020-11-21T05:46:16.105565",
     "exception": false,
     "start_time": "2020-11-21T05:46:16.077235",
     "status": "completed"
    },
    "tags": []
   },
   "source": [
    "Saving the dataframe to a csv file"
   ]
  },
  {
   "cell_type": "code",
   "execution_count": 23,
   "metadata": {
    "execution": {
     "iopub.execute_input": "2020-11-21T05:46:16.172377Z",
     "iopub.status.busy": "2020-11-21T05:46:16.171421Z",
     "iopub.status.idle": "2020-11-21T05:46:16.508735Z",
     "shell.execute_reply": "2020-11-21T05:46:16.507777Z"
    },
    "papermill": {
     "duration": 0.37462,
     "end_time": "2020-11-21T05:46:16.508873",
     "exception": false,
     "start_time": "2020-11-21T05:46:16.134253",
     "status": "completed"
    },
    "tags": []
   },
   "outputs": [],
   "source": [
    "df.to_csv(rf\"./output_macrodata.csv\")"
   ]
  },
  {
   "cell_type": "code",
   "execution_count": 24,
   "metadata": {
    "execution": {
     "iopub.execute_input": "2020-11-21T05:46:16.601883Z",
     "iopub.status.busy": "2020-11-21T05:46:16.600979Z",
     "iopub.status.idle": "2020-11-21T05:46:16.612915Z",
     "shell.execute_reply": "2020-11-21T05:46:16.612169Z"
    },
    "papermill": {
     "duration": 0.060018,
     "end_time": "2020-11-21T05:46:16.613087",
     "exception": false,
     "start_time": "2020-11-21T05:46:16.553069",
     "status": "completed"
    },
    "tags": []
   },
   "outputs": [],
   "source": [
    "macdf=pd.read_csv(r\"./output_macrodata.csv\",index_col=0,parse_dates=True)"
   ]
  }
 ],
 "metadata": {
  "kernelspec": {
   "display_name": "Python 3",
   "language": "python",
   "name": "python3"
  },
  "language_info": {
   "codemirror_mode": {
    "name": "ipython",
    "version": 3
   },
   "file_extension": ".py",
   "mimetype": "text/x-python",
   "name": "python",
   "nbconvert_exporter": "python",
   "pygments_lexer": "ipython3",
   "version": "3.7.6"
  },
  "papermill": {
   "duration": 50.588438,
   "end_time": "2020-11-21T05:46:16.765259",
   "environment_variables": {},
   "exception": null,
   "input_path": "__notebook__.ipynb",
   "output_path": "__notebook__.ipynb",
   "parameters": {},
   "start_time": "2020-11-21T05:45:26.176821",
   "version": "2.1.0"
  }
 },
 "nbformat": 4,
 "nbformat_minor": 4
}
